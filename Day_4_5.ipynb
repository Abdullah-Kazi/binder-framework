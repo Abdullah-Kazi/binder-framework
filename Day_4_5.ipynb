import pandas as pd
import matplotlib.pyplot as plt
import numpy as np

df = pd.read_csv("Value_of_Energy_Cost_Savings_Program_Savings_for_Businesses_-_FY2020.csv")
result = df.dtypes

#How many different companies are represented in the data set?
len(df['Company Name'])

#What is the total number of jobs created for businesses in Queens?
new_df = df.query("City=='Queens'")
new_df['Job created'] = new_df['Job created'].fillna(0)
sum(new_df['Job created'])

#How many different unique email domains names are there in the data set?
unique_domains = df['company email'].unique()
len(unique_domains)

#Considering only NTAs with at least 5 listed businesses, what is the average total savings and the total jobs created for each NTA?
filtered_df = df.groupby('NTA').filter(lambda x: len(x) >= 5)
nta_stats = filtered_df.groupby('NTA').agg({'Savings from beginning receiving benefits': 'mean', 'Job created': "sum"})
nta_stats.to_csv('nta_statistics.csv', index=True)

#scatter plot of jobs created versus average savings. Use both a standard and a logarithmic scale for the average savings.
import matplotlib.pyplot as plt
import numpy as np
jobs_created = df['Job created']
average_savings = df['Total Savings']
fig, (ax1, ax2) = plt.subplots(1, 2, figsize=(12, 6))
ax1.scatter(jobs_created, average_savings)
ax1.set_xlabel = ("Jobs created")
ax1.set_ylabel = ("Total Savings")
ax1.set_title = ("Standard Scatter plot of Jobs created versus average savings")
ax1.grid(True)
ax2.scatter(jobs_created, average_savings)
ax2.set_xlabel = ("Jobs created")
ax2.set_ylabel =("Total Savings")
ax2.set_title = ("Logarithmic Scatter plot of Jobs created versus average savings")
ax2.grid(True)
ax2.set_yscale('log')
plt.tight_layout()
plt.show()

#histogram of the log of the average total savings.
df['Average Savings'] = df['Total Savings']/df['Job created']
df['Log Average Savings'] = np.log10(df['Average Savings'])
plt.figure(figsize=(8,6))
plt.hist(df['Log Average Savings'], bins=10, edgecolor = 'red')
plt.set_xlabel=('Log Average Savings')
plt.set_ylabel=('Frequency')
plt.set_title='Histogram of Log Average Savings'
plt.show()

#line plot of the total jobs created for each month.
# Parse the "Effective Date" column as a date type
df['Effective Date'] = pd.to_datetime(df['Effective Date'])
monthly_totals = df.groupby(df['Effective Date'].dt.to_period('M'))['Job created'].sum()
monthly_totals.index = monthly_totals.index.astype(str)
plt.figure(figsize=(10, 6))
plt.plot(monthly_totals.index, monthly_totals.values, marker='o')
plt.xlabel('Month')
plt.ylabel('Total Jobs Created')
plt.title('Total Jobs Created per Month')
plt.xticks(rotation=45)
plt.grid(False)
plt.show()
